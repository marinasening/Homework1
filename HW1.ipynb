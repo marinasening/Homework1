{
 "cells": [
  {
   "cell_type": "code",
   "execution_count": 44,
   "metadata": {},
   "outputs": [
    {
     "name": "stdout",
     "output_type": "stream",
     "text": [
      "Фраза 1 короче, чем фраза 2\n"
     ]
    }
   ],
   "source": [
    "phrase_1 = \"Чтобы заинтересовать других, интересуйтесь ими\"\n",
    "phrase_2 = \"Разговаривайте с людьми о них самих, и они будут слушать вас часами\"\n",
    "if len (phrase_1) < len (phrase_2):\n",
    "    print(\"Фраза 1 короче, чем фраза 2\")\n",
    "elif len (phrase_1) > len (phrase_2):\n",
    "    print(\"Фраза 1 длиннее, чем фраза 2\")\n",
    "else:\n",
    "    print(\"Фразы равной длины\")"
   ]
  },
  {
   "cell_type": "code",
   "execution_count": 45,
   "metadata": {},
   "outputs": [
    {
     "name": "stdout",
     "output_type": "stream",
     "text": [
      "Високосный год\n"
     ]
    }
   ],
   "source": [
    "year = 1996\n",
    "if year % 4 == 0:\n",
    "    print(\"Високосный год\")\n",
    "else:\n",
    "    print(\"Обычный год\")"
   ]
  },
  {
   "cell_type": "code",
   "execution_count": 80,
   "metadata": {},
   "outputs": [
    {
     "name": "stdout",
     "output_type": "stream",
     "text": [
      "Введите день: 5\n",
      "Введите месяц: 4\n",
      "Некорректное значение. Возможно, нужно ввести название месяца\n"
     ]
    }
   ],
   "source": [
    "day_input = int (input(\"Введите день: \"))\n",
    "month_input = input(\"Введите месяц: \")\n",
    "if ((month_input == \"март\" or month_input == \"Март\") and day_input >= 21 and day_input <= 31) or ((month_input == \"апрель\" or month_input == \"Апрель\") and day_input >= 1 and day_input <= 20):\n",
    "                                                                                               print (\"Ваш знак зодиака: Овен\")\n",
    "elif ((month_input == \"апрель\" or month_input == \"Апрель\") and day_input >= 21 and day_input <= 30) or ((month_input == \"май\" or month_input == \"Май\") and day_input >= 1 and day_input <= 21):\n",
    "            print (\"Ваш знак зодиака: Телец\")\n",
    "elif ((month_input == \"май\" or month_input == \"Май\") and day_input >= 22 and day_input <= 31) or ((month_input == \"июнь\" or month_input == \"Июнь\") and day_input >= 1 and day_input <= 21):\n",
    "            print (\"Ваш знак зодиака: Близнецы\")\n",
    "elif ((month_input == \"июнь\" or month_input == \"Июнь\") and day_input >= 22 and day_input <= 30) or ((month_input == \"июль\" or month_input == \"Июль\") and day_input >= 1 and day_input <= 22):\n",
    "            print (\"Ваш знак зодиака: Рак\")\n",
    "elif ((month_input == \"июль\" or month_input == \"Июль\") and day_input >= 23 and day_input <= 31) or ((month_input == \"август\" or month_input == \"Август\") and day_input >= 1 and day_input <= 21):\n",
    "            print (\"Ваш знак зодиака: Лев\")\n",
    "elif ((month_input == \"август\" or month_input == \"Август\") and day_input >= 22 and day_input <= 31) or ((month_input == \"сентябрь\" or month_input == \"Сентябрь\") and day_input >= 1 and day_input <= 23):\n",
    "            print (\"Ваш знак зодиака: Дева\")\n",
    "elif ((month_input == \"сентябрь\" or month_input == \"Сентябрь\") and day_input >= 24 and day_input <= 30) or ((month_input == \"октябрь\" or month_input == \"Октябрь\") and day_input >= 1 and day_input <= 23):\n",
    "            print (\"Ваш знак зодиака: Весы\")\n",
    "elif ((month_input == \"октябрь\" or month_input == \"Октябрь\") and day_input >= 24 and day_input <= 31) or ((month_input == \"ноябрь\" or month_input == \"Ноябрь\") and day_input >= 1 and day_input <= 22):\n",
    "            print (\"Ваш знак зодиака: Скорпион\")\n",
    "elif ((month_input == \"ноябрь\" or month_input == \"Ноябрь\") and day_input >= 23 and day_input <= 30) or ((month_input == \"декабрь\" or month_input == \"Декабрь\") and day_input >= 1 and day_input <= 22):\n",
    "            print (\"Ваш знак зодиака: Стрелец\")\n",
    "elif ((month_input == \"декабрь\" or month_input == \"Декабрь\") and day_input >= 23 and day_input <= 31) or ((month_input == \"январь\" or month_input == \"Январь\") and day_input >= 1 and day_input <= 20):\n",
    "            print (\"Ваш знак зодиака: Козерог\")\n",
    "elif ((month_input == \"январь\" or month_input == \"Январь\") and day_input >= 21 and day_input <= 31) or ((month_input == \"февраль\" or month_input == \"Февраль\") and day_input >= 1 and day_input <= 19):\n",
    "            print (\"Ваш знак зодиака: Водолей\")\n",
    "elif ((month_input == \"февраль\" or month_input == \"Февраль\") and day_input >= 20 and day_input <= 29) or ((month_input == \"март\" or month_input == \"Март\") and day_input >= 1 and day_input <= 20):\n",
    "            print (\"Ваш знак зодиака: Рыбы\")\n",
    "else:\n",
    "            print (\"Некорректное значение. Возможно, нужно ввести название месяца\")"
   ]
  },
  {
   "cell_type": "code",
   "execution_count": 107,
   "metadata": {},
   "outputs": [
    {
     "name": "stdout",
     "output_type": "stream",
     "text": [
      "Коробка № 2\n"
     ]
    }
   ],
   "source": [
    "wight = 85\n",
    "lenght = 48\n",
    "height = 90\n",
    "\n",
    "if (wight < 15 and lenght < 15 and height < 15):\n",
    "    print (\"Коробка № 1\")\n",
    "elif ((wight >= 15 and wight < 50) or (lenght >= 15 and lenght < 50) or (height >= 15 and height < 50) and lenght < 200):\n",
    "    print (\"Коробка № 2\")\n",
    "elif (lenght >= 200):\n",
    "    print (\"Коробка для лыж\")\n",
    "else:\n",
    "    print (\"Стандартная коробка № 3\")"
   ]
  },
  {
   "cell_type": "code",
   "execution_count": null,
   "metadata": {},
   "outputs": [],
   "source": []
  }
 ],
 "metadata": {
  "kernelspec": {
   "display_name": "Python 3",
   "language": "python",
   "name": "python3"
  },
  "language_info": {
   "codemirror_mode": {
    "name": "ipython",
    "version": 3
   },
   "file_extension": ".py",
   "mimetype": "text/x-python",
   "name": "python",
   "nbconvert_exporter": "python",
   "pygments_lexer": "ipython3",
   "version": "3.8.5"
  }
 },
 "nbformat": 4,
 "nbformat_minor": 4
}
